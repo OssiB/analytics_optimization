{
 "cells": [
  {
   "cell_type": "code",
   "execution_count": 46,
   "metadata": {
    "collapsed": false
   },
   "outputs": [],
   "source": [
    "from   numpy.linalg import  norm\n",
    "from numpy import genfromtxt\n",
    "import numpy as np\n",
    "def euclidean_distance(point1,point2):\n",
    "    return norm(point1 - point2);"
   ]
  },
  {
   "cell_type": "code",
   "execution_count": 28,
   "metadata": {
    "collapsed": true
   },
   "outputs": [],
   "source": [
    "def readCsv(filePath):\n",
    "    return genfromtxt(filePath, delimiter=',')"
   ]
  },
  {
   "cell_type": "code",
   "execution_count": 84,
   "metadata": {
    "collapsed": false
   },
   "outputs": [],
   "source": [
    "observations = readCsv(\"haberman.csv\")\n",
    "point = np.array([63,59,2])"
   ]
  },
  {
   "cell_type": "code",
   "execution_count": 132,
   "metadata": {
    "collapsed": false
   },
   "outputs": [],
   "source": [
    "distances = np.zeros(len(observations))\n",
    "index = 0\n",
    "for row in observations:\n",
    "     distances[index] =  euclidean_distance(point,row[0:3])\n",
    "     index += 1;\n",
    "    \n",
    "smallest_eigth_indexes  = np.argsort(distances)[:8]\n",
    " "
   ]
  },
  {
   "cell_type": "code",
   "execution_count": 133,
   "metadata": {
    "collapsed": false
   },
   "outputs": [
    {
     "name": "stdout",
     "output_type": "stream",
     "text": [
      "Prediction for point [63 59  2] = 1.0\n"
     ]
    }
   ],
   "source": [
    "import collections\n",
    "import operator\n",
    "counts  = collections.Counter(observations[smallest_five_indexes][0:7,3])\n",
    "print \"Prediction for point \" + str(point) + \" = \"+ str(max(counts.iteritems(), key=operator.itemgetter(1))[0])"
   ]
  },
  {
   "cell_type": "code",
   "execution_count": 119,
   "metadata": {
    "collapsed": false
   },
   "outputs": [
    {
     "data": {
      "text/plain": [
       "3"
      ]
     },
     "execution_count": 119,
     "metadata": {},
     "output_type": "execute_result"
    }
   ],
   "source": [
    "print "
   ]
  },
  {
   "cell_type": "code",
   "execution_count": null,
   "metadata": {
    "collapsed": true
   },
   "outputs": [],
   "source": []
  }
 ],
 "metadata": {
  "kernelspec": {
   "display_name": "Python 2",
   "language": "python",
   "name": "python2"
  },
  "language_info": {
   "codemirror_mode": {
    "name": "ipython",
    "version": 2
   },
   "file_extension": ".py",
   "mimetype": "text/x-python",
   "name": "python",
   "nbconvert_exporter": "python",
   "pygments_lexer": "ipython2",
   "version": "2.7.10"
  }
 },
 "nbformat": 4,
 "nbformat_minor": 0
}
