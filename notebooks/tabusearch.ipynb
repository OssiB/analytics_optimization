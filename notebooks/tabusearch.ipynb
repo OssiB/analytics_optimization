{
 "cells": [
  {
   "cell_type": "markdown",
   "metadata": {},
   "source": [
    "### Solve the knapsack problem with Tabu search algorithm\n",
    "#### Problem description\n",
    "In the knapscak problem, where are _n_ items with values $(v_1,v_2,\\ldots,v_n)$ and weigths $(w_1,w_2,\\ldots,w_n)$ and the value _W_\n",
    "specifying the capacity of the knapsack.We would like to maximise\n",
    "\\begin{equation*}\n",
    "\\sum_{j=1}^n v_j x_j\n",
    "\\end{equation*}\n",
    "where $ x \\in \\{0,1\\}$\n"
   ]
  },
  {
   "cell_type": "code",
   "execution_count": 127,
   "metadata": {
    "collapsed": true
   },
   "outputs": [],
   "source": [
    "import numpy as np\n",
    "import random"
   ]
  },
  {
   "cell_type": "code",
   "execution_count": 170,
   "metadata": {
    "collapsed": false
   },
   "outputs": [
    {
     "data": {
      "text/plain": [
       "array([139, 149, 150, 156, 163, 173, 184, 192, 201, 210, 214, 221, 229, 240])"
      ]
     },
     "execution_count": 170,
     "metadata": {},
     "output_type": "execute_result"
    }
   ],
   "source": [
    "weigths = np.array([70,73,77,80,82,87,90,94,98,106,110,113,115,118,120])\n",
    "values = np.array([135,139,149,150,156,163,173,184,192,201,210,214,221,229,240])\n",
    "total_capacity = 750"
   ]
  },
  {
   "cell_type": "code",
   "execution_count": 121,
   "metadata": {
    "collapsed": false
   },
   "outputs": [
    {
     "data": {
      "text/plain": [
       "(5,)"
      ]
     },
     "execution_count": 121,
     "metadata": {},
     "output_type": "execute_result"
    }
   ],
   "source": [
    "a = np.arange(5)**2\n",
    "a.shape"
   ]
  },
  {
   "cell_type": "code",
   "execution_count": 217,
   "metadata": {
    "collapsed": false
   },
   "outputs": [
    {
     "name": "stdout",
     "output_type": "stream",
     "text": [
      "True\n"
     ]
    },
    {
     "data": {
      "text/plain": [
       "array([2, 2])"
      ]
     },
     "execution_count": 217,
     "metadata": {},
     "output_type": "execute_result"
    }
   ],
   "source": [
    "print len(weigths) == len(values)\n",
    "np.append(np.array([2]),2)"
   ]
  },
  {
   "cell_type": "markdown",
   "metadata": {},
   "source": [
    "Let's make a characteristic function so  we can calculate the total value and weigth usig dot product"
   ]
  },
  {
   "cell_type": "code",
   "execution_count": 174,
   "metadata": {
    "collapsed": false
   },
   "outputs": [],
   "source": [
    "def characteristic_function(elements,subset):\n",
    "    return np.array([1 if x in subset else 0 for x in elements])\n",
    "\n",
    "def swap(neighbour,knapsack):\n",
    "    if neighbour not in knapsack:\n",
    "        return np.append(knapsack,neighbour)\n",
    "    else:\n",
    "        return knapsack[ knapsack != neighbour]\n",
    "        \n",
    "        \n"
   ]
  },
  {
   "cell_type": "code",
   "execution_count": 162,
   "metadata": {
    "collapsed": false
   },
   "outputs": [
    {
     "data": {
      "text/plain": [
       "139"
      ]
     },
     "execution_count": 162,
     "metadata": {},
     "output_type": "execute_result"
    }
   ],
   "source": [
    "def fitness(penalty,knapsack,weights,values,capacity):\n",
    "    set_indicator = characteristic_function(weigths,knapsack)\n",
    "    v = np.dot(set_indicator,values)\n",
    "    w = np.dot(set_indicator,weights)\n",
    "    return v - penalty*(max(0,w - capacity))\n"
   ]
  },
  {
   "cell_type": "code",
   "execution_count": 422,
   "metadata": {
    "collapsed": false
   },
   "outputs": [],
   "source": [
    "def tabusearch(values,weigths,capacity,max_iterations,penalty_multiplier):\n",
    "    current_solution = np.zeros(len(weigths))\n",
    "    tabulist = np.array([])\n",
    "    knapsack = np.array([])\n",
    "    best_fitness = 0\n",
    "    n = 0\n",
    "    while (n < max_iterations):\n",
    "        neighbours = np.setdiff1d(weigths,tabulist)\n",
    "        for neighbour  in neighbours:\n",
    "            candinate = swap(neighbour,knapsack)\n",
    "            current_fitness = fitness(penalty_multiplier,candinate,weigths,values,capacity)\n",
    "            if current_fitness > best_fitness:   \n",
    "                best_solution = neighbour\n",
    "                best_fitness = current_fitness\n",
    "        \n",
    "        knapsack = swap(best_solution,knapsack)\n",
    "        n = n +1\n",
    "        tabulist = np.append(tabulist,best_solution)\n",
    "        if(len(tabulist) > 5):\n",
    "            tabulist = tabulist[1:]\n",
    "        best_fitness  = 0 \n",
    "    return np.dot(characteristic_function(weigths,knapsack),values) ,np.dot(characteristic_function(weigths,knapsack),weigths),knapsack \n",
    "    "
   ]
  },
  {
   "cell_type": "code",
   "execution_count": 447,
   "metadata": {
    "collapsed": false
   },
   "outputs": [],
   "source": [
    "max_iterations = 100\n",
    "data_results = [(penalty,(tabusearch(values,weigths,total_capacity,max_iterations,penalty))) for penalty in np.arange(1,3,step =.1)]"
   ]
  },
  {
   "cell_type": "code",
   "execution_count": 449,
   "metadata": {
    "collapsed": false
   },
   "outputs": [],
   "source": [
    "values_p = [row[1][0] for row in data_results]\n",
    "weights_p = [row[1][1] for row in data_results]\n",
    "knapscaks_p = [row[1][2] for row in data_results]\n",
    "penalties = [row[0] for row in data_results]"
   ]
  },
  {
   "cell_type": "code",
   "execution_count": 438,
   "metadata": {
    "collapsed": false
   },
   "outputs": [],
   "source": [
    "%matplotlib inline\n",
    "\n",
    "import matplotlib\n",
    "import matplotlib.pyplot as plot\n"
   ]
  },
  {
   "cell_type": "code",
   "execution_count": 451,
   "metadata": {
    "collapsed": false
   },
   "outputs": [
    {
     "data": {
      "image/png": "[encoded data removed]",
      "text/plain": [
       "<matplotlib.figure.Figure at 0x10b423750>"
      ]
     },
     "metadata": {},
     "output_type": "display_data"
    }
   ],
   "source": [
    "from matplotlib.pyplot import *\n",
    "import seaborn as sns\n",
    "sns.set(color_codes=True)\n",
    "\n",
    "figure()\n",
    "\n",
    "\n",
    "\n",
    "\n",
    "show()"
   ]
  },
  {
   "cell_type": "code",
   "execution_count": 452,
   "metadata": {
    "collapsed": false
   },
   "outputs": [
    {
     "data": {
      "text/plain": [
       "[<matplotlib.lines.Line2D at 0x10bb6b850>]"
      ]
     },
     "execution_count": 452,
     "metadata": {},
     "output_type": "execute_result"
    },
    {
     "data": {
      "image/png": "[encoded data removed]",
      "text/plain": [
       "<matplotlib.figure.Figure at 0x10bb278d0>"
      ]
     },
     "metadata": {},
     "output_type": "display_data"
    }
   ],
   "source": [
    "plt.plot(penalties,values_p )"
   ]
  },
  {
   "cell_type": "code",
   "execution_count": null,
   "metadata": {
    "collapsed": true
   },
   "outputs": [],
   "source": []
  }
 ],
 "metadata": {
  "kernelspec": {
   "display_name": "Python 2",
   "language": "python",
   "name": "python2"
  },
  "language_info": {
   "codemirror_mode": {
    "name": "ipython",
    "version": 2
   },
   "file_extension": ".py",
   "mimetype": "text/x-python",
   "name": "python",
   "nbconvert_exporter": "python",
   "pygments_lexer": "ipython2",
   "version": "2.7.10"
  }
 },
 "nbformat": 4,
 "nbformat_minor": 0
}
