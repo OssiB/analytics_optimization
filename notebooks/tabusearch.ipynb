{
 "cells": [
  {
   "cell_type": "markdown",
   "metadata": {},
   "source": [
    "### Solve the knapsack problem with Tabu search algorithm\n",
    "#### Problem description\n",
    "In the knapscak problem, where are _n_ items with values $(v_1,v_2,\\ldots,v_n)$ and weigths $(w_1,w_2,\\ldots,w_n)$ and the value _W_\n",
    "specifying the capacity of the knapsack.We would like to maximise\n",
    "\\begin{equation*}\n",
    "\\sum_{j=1}^n v_j x_j\n",
    "\\end{equation*}\n",
    "\n",
    "where $ x \\in \\{0,1\\}$ and also \n",
    "\\begin{equation*}\n",
    "\\sum_{i=1}^n w_i \\leq W\n",
    "\\end{equation*}\n",
    "If the value of $x$ is equal to $1$ element is selected, othewise element is removed from the knapsack. Using tabu search algorithm we can avoid local best solution problem and usually $f(x_i) \\leq f(x_j)$ is not true $\\forall i\\le j$ where $f(x_i)$ is the value of the knapsack at the iteration step $i$.\n"
   ]
  },
  {
   "cell_type": "code",
   "execution_count": 3,
   "metadata": {
    "collapsed": true
   },
   "outputs": [],
   "source": [
    "import numpy as np\n",
    "import random\n",
    "%matplotlib inline\n",
    "from matplotlib.pyplot import *\n",
    "import seaborn as sns\n",
    "sns.set(color_codes=True)"
   ]
  },
  {
   "cell_type": "code",
   "execution_count": 4,
   "metadata": {
    "collapsed": false
   },
   "outputs": [
    {
     "data": {
      "image/png": "[encoded data removed]",
      "text/plain": [
       "<matplotlib.figure.Figure at 0x10aa05210>"
      ]
     },
     "metadata": {},
     "output_type": "display_data"
    }
   ],
   "source": [
    "weigths = np.array([70,73,77,80,82,87,90,94,98,106,110,113,115,118,120])\n",
    "values = np.array([135,139,149,150,156,163,173,184,192,201,210,214,221,229,240])\n",
    "total_capacity = 750\n",
    "selected_color =\"#000000\"\n",
    "not_selected_color =\"#d3d3d3\"\n",
    "knapsack_indicator =[not_selected_color for weigth in weigths]\n",
    "sns.palplot(knapsack_indicator)"
   ]
  },
  {
   "cell_type": "markdown",
   "metadata": {},
   "source": [
    "Let's make a characteristic function so  we can calculate the total value and weigth usig dot product"
   ]
  },
  {
   "cell_type": "code",
   "execution_count": 5,
   "metadata": {
    "collapsed": false
   },
   "outputs": [],
   "source": [
    "def knapsack_palette(set_indicator):\n",
    "    return [selected_color if indicator == 1  else not_selected_color for indicator in set_indicator]\n",
    "def characteristic_function(elements,subset):\n",
    "    return np.array([1 if x in subset else 0 for x in elements])\n",
    "\n",
    "def swap(neighbour,knapsack):\n",
    "    if neighbour not in knapsack:\n",
    "        return np.append(knapsack,neighbour)\n",
    "    else:\n",
    "        return knapsack[ knapsack != neighbour]\n",
    "        \n",
    "        \n"
   ]
  },
  {
   "cell_type": "code",
   "execution_count": 6,
   "metadata": {
    "collapsed": false
   },
   "outputs": [],
   "source": [
    "def fitness(penalty,knapsack,weights,values,capacity):\n",
    "    set_indicator = characteristic_function(weigths,knapsack)\n",
    "    v = np.dot(set_indicator,values)\n",
    "    w = np.dot(set_indicator,weights)\n",
    "    return v - penalty*(max(0,w - capacity))\n"
   ]
  },
  {
   "cell_type": "code",
   "execution_count": 7,
   "metadata": {
    "collapsed": false
   },
   "outputs": [],
   "source": [
    "def tabusearch(values,weigths,capacity,max_iterations,penalty_multiplier):\n",
    "    current_solution = np.zeros(len(weigths))\n",
    "    tabulist = np.array([])\n",
    "    knapsack = np.array([])\n",
    "    best_fitness = 0\n",
    "    n = 0\n",
    "    while (n < max_iterations):\n",
    "        neighbours = np.setdiff1d(weigths,tabulist)\n",
    "        for neighbour  in neighbours:\n",
    "            candinate = swap(neighbour,knapsack)\n",
    "            current_fitness = fitness(penalty_multiplier,candinate,weigths,values,capacity)\n",
    "            if current_fitness > best_fitness:   \n",
    "                best_solution = neighbour\n",
    "                best_fitness = current_fitness\n",
    "        \n",
    "        knapsack = swap(best_solution,knapsack)\n",
    "        n = n +1\n",
    "        tabulist = np.append(tabulist,best_solution)\n",
    "        if(len(tabulist) > 5):\n",
    "            tabulist = tabulist[1:]\n",
    "        best_fitness  = 0 \n",
    "    return np.dot(characteristic_function(weigths,knapsack),values) ,np.dot(characteristic_function(weigths,knapsack),weigths),knapsack \n",
    "    "
   ]
  },
  {
   "cell_type": "code",
   "execution_count": 8,
   "metadata": {
    "collapsed": false
   },
   "outputs": [],
   "source": [
    "max_iterations = 1000\n",
    "data_results = [(penalty,(tabusearch(values,weigths,total_capacity,max_iterations,penalty))) for penalty in np.arange(1,3,step =.1)]"
   ]
  },
  {
   "cell_type": "code",
   "execution_count": 9,
   "metadata": {
    "collapsed": false
   },
   "outputs": [],
   "source": [
    "values_p = np.array([row[1][0] for row in data_results])\n",
    "weights_p = np.array([row[1][1] for row in data_results])\n",
    "knapscaks_p = np.array([row[1][2] for row in data_results])\n",
    "penalties = np.array([row[0] for row in data_results])\n",
    "max_weigth = [750 for row in data_results]"
   ]
  },
  {
   "cell_type": "code",
   "execution_count": 11,
   "metadata": {
    "collapsed": false
   },
   "outputs": [
    {
     "data": {
      "text/plain": [
       "[<matplotlib.lines.Line2D at 0x10aba2f90>]"
      ]
     },
     "execution_count": 11,
     "metadata": {},
     "output_type": "execute_result"
    },
    {
     "data": {
      "image/png": "[encoded data removed]",
      "text/plain": [
       "<matplotlib.figure.Figure at 0x10ab23ed0>"
      ]
     },
     "metadata": {},
     "output_type": "display_data"
    }
   ],
   "source": [
    "plot(penalties,weights_p )\n",
    "plot(penalties,max_weigth)\n",
    "plot(penalties,values_p )"
   ]
  },
  {
   "cell_type": "markdown",
   "metadata": {},
   "source": [
    "Next we try to find out the maximal value where the total weigth is less than 750."
   ]
  },
  {
   "cell_type": "code",
   "execution_count": 12,
   "metadata": {
    "collapsed": false
   },
   "outputs": [],
   "source": [
    "mask= weights_p <= 750\n",
    "good_values = np.in1d(weights_p,weights_p[mask])\n",
    "best_optimal=  values_p[np.where(good_values)]"
   ]
  },
  {
   "cell_type": "code",
   "execution_count": 13,
   "metadata": {
    "collapsed": false
   },
   "outputs": [
    {
     "name": "stdout",
     "output_type": "stream",
     "text": [
      "2.6\n"
     ]
    }
   ],
   "source": [
    "mask= max(best_optimal)\n",
    "best_penalty = penalties[np.argwhere(values_p == max(best_optimal))[0][0]]\n",
    "print best_penalty"
   ]
  },
  {
   "cell_type": "markdown",
   "metadata": {},
   "source": [
    "So we get the optimal solution with penalty value 2.6"
   ]
  },
  {
   "cell_type": "code",
   "execution_count": 14,
   "metadata": {
    "collapsed": true
   },
   "outputs": [],
   "source": [
    "solution = tabusearch(values,weigths,total_capacity,1000,best_penalty)"
   ]
  },
  {
   "cell_type": "code",
   "execution_count": 15,
   "metadata": {
    "collapsed": false
   },
   "outputs": [
    {
     "name": "stdout",
     "output_type": "stream",
     "text": [
      "Total value 1458\n",
      "Weigth 749\n",
      "Knapsack weigths [  70.   77.   82.   90.   94.   98.  118.  120.]\n"
     ]
    },
    {
     "data": {
      "image/png": "[encoded data removed]",
      "text/plain": [
       "<matplotlib.figure.Figure at 0x10abc6e50>"
      ]
     },
     "metadata": {},
     "output_type": "display_data"
    }
   ],
   "source": [
    "print \"Total value %i\" %solution[0]\n",
    "print \"Weigth %i\"  %solution[1] \n",
    "print \"Knapsack weigths %s\" %np.sort(np.array(solution[2])) \n",
    "sns.palplot(knapsack_palette(characteristic_function(weigths,solution[2])))"
   ]
  }
 ],
 "metadata": {
  "kernelspec": {
   "display_name": "Python 2",
   "language": "python",
   "name": "python2"
  },
  "language_info": {
   "codemirror_mode": {
    "name": "ipython",
    "version": 2
   },
   "file_extension": ".py",
   "mimetype": "text/x-python",
   "name": "python",
   "nbconvert_exporter": "python",
   "pygments_lexer": "ipython2",
   "version": "2.7.10"
  }
 },
 "nbformat": 4,
 "nbformat_minor": 0
}
